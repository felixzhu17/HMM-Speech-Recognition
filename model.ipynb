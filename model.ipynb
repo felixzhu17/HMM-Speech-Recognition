{
 "cells": [
  {
   "cell_type": "code",
   "execution_count": 1,
   "metadata": {},
   "outputs": [],
   "source": [
    "import numpy as np\n",
    "import matplotlib.pyplot as plt\n",
    "import os\n",
    "import librosa\n",
    "from IPython.display import Audio\n",
    "from batch_hmm import *\n",
    "from dnn_hmm import *\n",
    "from mfcc import *\n",
    "from hmm import *"
   ]
  },
  {
   "cell_type": "code",
   "execution_count": 2,
   "metadata": {},
   "outputs": [
    {
     "name": "stdout",
     "output_type": "stream",
     "text": [
      "Shape of X: (100, 3)\n",
      "Shape of Z: (100,)\n"
     ]
    }
   ],
   "source": [
    "import numpy as np\n",
    "from hmmlearn import hmm\n",
    "\n",
    "# Number of hidden states\n",
    "n_components = 2\n",
    "\n",
    "# Dimensionality of the observations\n",
    "n_features = 3\n",
    "\n",
    "# Create a Gaussian HMM\n",
    "model = hmm.GaussianHMM(\n",
    "    n_components=n_components, \n",
    "    covariance_type=\"diag\"\n",
    ")\n",
    "\n",
    "# Manually specify the model parameters\n",
    "model.startprob_ = np.array([1, 0])\n",
    "\n",
    "model.transmat_ = np.array([\n",
    "    [0.7, 0.3],\n",
    "    [0.4, 0.6],\n",
    "])\n",
    "\n",
    "# Means of each hidden state\n",
    "model.means_ = np.array([\n",
    "    [0.0, 0.0, 0.0], \n",
    "    [1.0, 1.0, 1.0]\n",
    "])\n",
    "\n",
    "# Covariances of each hidden state\n",
    "model.covars_ = np.ones((n_components, n_features))\n",
    "\n",
    "# Generate samples\n",
    "X, Z = model.sample(100)\n",
    "\n",
    "print(\"Shape of X:\", X.shape)\n",
    "print(\"Shape of Z:\", Z.shape)"
   ]
  },
  {
   "cell_type": "code",
   "execution_count": 18,
   "metadata": {},
   "outputs": [],
   "source": [
    "self = BatchStableGMMHMM(n_states = 2, n_dims = 3)\n",
    "#self.mu = np.array([[3, 3, 3], [10, 10, 10]])"
   ]
  },
  {
   "cell_type": "code",
   "execution_count": 36,
   "metadata": {},
   "outputs": [],
   "source": [
    "for _ in range(1):\n",
    "    self.em_step(X[np.newaxis])"
   ]
  },
  {
   "cell_type": "code",
   "execution_count": 37,
   "metadata": {},
   "outputs": [
    {
     "data": {
      "text/plain": [
       "array([[1.23132303, 0.41501557, 1.2354097 ],\n",
       "       [0.22346937, 0.31676605, 0.18439523]])"
      ]
     },
     "execution_count": 37,
     "metadata": {},
     "output_type": "execute_result"
    }
   ],
   "source": [
    "self.mu"
   ]
  },
  {
   "cell_type": "code",
   "execution_count": 38,
   "metadata": {},
   "outputs": [
    {
     "data": {
      "text/plain": [
       "array([[0.55482701, 0.44517299],\n",
       "       [0.22494962, 0.77505038]])"
      ]
     },
     "execution_count": 38,
     "metadata": {},
     "output_type": "execute_result"
    }
   ],
   "source": [
    "self.A"
   ]
  },
  {
   "cell_type": "code",
   "execution_count": null,
   "metadata": {},
   "outputs": [],
   "source": [
    "self = BatchStableGMMHMM(n_states = 2, n_dims = 3, deterministic_start = True)"
   ]
  },
  {
   "cell_type": "code",
   "execution_count": null,
   "metadata": {},
   "outputs": [],
   "source": [
    "for _ in range(50):\n",
    "    self.em_step(X[np.newaxis])"
   ]
  },
  {
   "cell_type": "code",
   "execution_count": null,
   "metadata": {},
   "outputs": [],
   "source": [
    "self.mu"
   ]
  },
  {
   "cell_type": "code",
   "execution_count": null,
   "metadata": {},
   "outputs": [],
   "source": [
    "np.around(self.A)"
   ]
  },
  {
   "cell_type": "code",
   "execution_count": null,
   "metadata": {},
   "outputs": [],
   "source": [
    "fpaths = []\n",
    "labels = []\n",
    "spoken = []\n",
    "for f in os.listdir('audio'):\n",
    "    for w in os.listdir('audio/' + f):\n",
    "        fpaths.append('audio/' + f + '/' + w)\n",
    "        labels.append(f)\n",
    "        if f not in spoken:\n",
    "            spoken.append(f)\n",
    "print('Words spoken:', spoken)"
   ]
  },
  {
   "cell_type": "code",
   "execution_count": null,
   "metadata": {},
   "outputs": [],
   "source": [
    "SR = 8000\n",
    "N_STATES = 5\n",
    "N_DIMENSIONS = 12\n",
    "N_ENCODING = 64"
   ]
  },
  {
   "cell_type": "code",
   "execution_count": null,
   "metadata": {},
   "outputs": [],
   "source": [
    "def get_path_mfcc(path):\n",
    "    y, sr = librosa.load(path, sr = SR)\n",
    "    return get_mfcc(y, sr, n_mfcc = N_DIMENSIONS)"
   ]
  },
  {
   "cell_type": "code",
   "execution_count": null,
   "metadata": {},
   "outputs": [],
   "source": [
    "raw_data = [{\"label\": label, \"mfcc\": get_path_mfcc(path)} for path, label in zip(fpaths, labels)]\n",
    "data = {}\n",
    "for word in spoken:\n",
    "    mfcc_samples = [d[\"mfcc\"] for d in raw_data if d[\"label\"] == word]\n",
    "    data[word] = pad_and_stack(mfcc_samples)"
   ]
  },
  {
   "cell_type": "code",
   "execution_count": null,
   "metadata": {},
   "outputs": [],
   "source": [
    "dnn_models = {}\n",
    "for word in spoken:\n",
    "    dnn_models[word] = BatchStableGMMHMM(N_STATES, N_DIMENSIONS)\n",
    "    for _ in range(1):\n",
    "        dnn_models[word].em_step(data[word][0].transpose(0,2,1))"
   ]
  },
  {
   "cell_type": "code",
   "execution_count": null,
   "metadata": {},
   "outputs": [],
   "source": [
    "# gmm_models = {}\n",
    "# for word in spoken:\n",
    "#     gmm_models[word] = BatchStableGMMHMM(N_STATES, N_DIMENSIONS)\n",
    "#     for _ in range(50):\n",
    "#         gmm_models[word].em_step(data[word])"
   ]
  },
  {
   "cell_type": "code",
   "execution_count": null,
   "metadata": {},
   "outputs": [],
   "source": [
    "def validate_model(models):\n",
    "    # Initialize counters for top 1 and top 3 predictions\n",
    "    top1_count = 0\n",
    "    top3_count = 0\n",
    "\n",
    "    # Total number of items\n",
    "    total_count = len(raw_data)\n",
    "\n",
    "    # Iterate over all elements in raw_data\n",
    "    for index in range(total_count):\n",
    "        test_data = raw_data[index]\n",
    "        true_label = test_data['label']\n",
    "        obs = test_data['mfcc'][np.newaxis, :]\n",
    "        prediction = {k:v.log_likelihood(obs) for k,v in models.items()}\n",
    "\n",
    "        # Sort predictions in descending order\n",
    "        sorted_predictions = sorted(prediction.items(), key=lambda x: x[1], reverse=True)\n",
    "\n",
    "        # Check if true_label is the top prediction\n",
    "        is_top1 = true_label == sorted_predictions[0][0]\n",
    "        if is_top1:\n",
    "            top1_count += 1  # Increase counter if true_label is the top prediction\n",
    "\n",
    "        # Check if true_label is in the top three predictions\n",
    "        is_top3 = true_label in [item[0] for item in sorted_predictions[:3]]\n",
    "        if is_top3:\n",
    "            top3_count += 1  # Increase counter if true_label is in the top three predictions\n",
    "\n",
    "    # Calculate percentages\n",
    "    top1_percentage = (top1_count / total_count) * 100\n",
    "    top3_percentage = (top3_count / total_count) * 100\n",
    "\n",
    "    print(\"Top 1 prediction accuracy: \", top1_percentage, \"%\")\n",
    "    print(\"Top 3 prediction accuracy: \", top3_percentage, \"%\")\n"
   ]
  },
  {
   "cell_type": "code",
   "execution_count": null,
   "metadata": {},
   "outputs": [],
   "source": [
    "validate_model(dnn_models)"
   ]
  },
  {
   "cell_type": "code",
   "execution_count": null,
   "metadata": {},
   "outputs": [],
   "source": [
    "# # Create a time array for the x-axis\n",
    "# t = np.arange(len(y)) / sr\n",
    "\n",
    "# # Create a plot\n",
    "# plt.figure(figsize=(14, 5))\n",
    "# plt.plot(t, y)\n",
    "# plt.title('Time-Amplitude plot')\n",
    "# plt.xlabel('Time (s)')\n",
    "# plt.ylabel('Amplitude')\n",
    "# plt.show()"
   ]
  },
  {
   "cell_type": "code",
   "execution_count": null,
   "metadata": {},
   "outputs": [],
   "source": [
    "# # STFT calculation\n",
    "# stft_result = stft(y)\n",
    "\n",
    "# # Time-Frequency plot\n",
    "# plt.figure(figsize=(14, 5))\n",
    "# librosa.display.specshow(librosa.amplitude_to_db(stft_result.T), sr=sr, x_axis='time', y_axis='log')\n",
    "# plt.colorbar(format='%+2.0f dB')\n",
    "# plt.title('Time-Frequency plot')\n",
    "# plt.show()"
   ]
  },
  {
   "cell_type": "code",
   "execution_count": null,
   "metadata": {},
   "outputs": [],
   "source": [
    "# # Generate MFCCs\n",
    "# mfccs = get_mfcc(y, sr)\n",
    "\n",
    "# # Plot the MFCCs\n",
    "# plt.figure(figsize=(10, 4))\n",
    "# plt.imshow(mfccs.T, origin='lower', aspect='auto', cmap='viridis')\n",
    "# plt.title('MFCC')\n",
    "# plt.ylabel('MFCC Coefficients')\n",
    "# plt.xlabel('Frame')\n",
    "# plt.colorbar()\n",
    "# plt.tight_layout()\n",
    "# plt.show()"
   ]
  }
 ],
 "metadata": {
  "kernelspec": {
   "display_name": "Python 3.8.5 ('test_env': venv)",
   "language": "python",
   "name": "python3"
  },
  "language_info": {
   "codemirror_mode": {
    "name": "ipython",
    "version": 3
   },
   "file_extension": ".py",
   "mimetype": "text/x-python",
   "name": "python",
   "nbconvert_exporter": "python",
   "pygments_lexer": "ipython3",
   "version": "3.8.5"
  },
  "orig_nbformat": 4,
  "vscode": {
   "interpreter": {
    "hash": "4cf0c84cb920ef818a17945acdbad69d9a4ddd40487682b0650d6bc1faebf3dc"
   }
  }
 },
 "nbformat": 4,
 "nbformat_minor": 2
}
