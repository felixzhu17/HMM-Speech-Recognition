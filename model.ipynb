{
 "cells": [
  {
   "cell_type": "code",
   "execution_count": null,
   "metadata": {},
   "outputs": [],
   "source": [
    "import numpy as np\n",
    "import matplotlib.pyplot as plt\n",
    "import os\n",
    "import librosa\n",
    "from IPython.display import Audio\n",
    "from scipy.fftpack import dct"
   ]
  },
  {
   "cell_type": "code",
   "execution_count": null,
   "metadata": {},
   "outputs": [],
   "source": [
    "fpaths = []\n",
    "labels = []\n",
    "spoken = []\n",
    "for f in os.listdir('audio'):\n",
    "    for w in os.listdir('audio/' + f):\n",
    "        fpaths.append('audio/' + f + '/' + w)\n",
    "        labels.append(f)\n",
    "        if f not in spoken:\n",
    "            spoken.append(f)\n",
    "print('Words spoken:', spoken)"
   ]
  },
  {
   "cell_type": "code",
   "execution_count": null,
   "metadata": {},
   "outputs": [],
   "source": []
  },
  {
   "cell_type": "code",
   "execution_count": null,
   "metadata": {},
   "outputs": [],
   "source": [
    "# y, sr = librosa.load(fpaths[0], sr = None)"
   ]
  },
  {
   "cell_type": "code",
   "execution_count": null,
   "metadata": {},
   "outputs": [],
   "source": [
    "# # Create a time array for the x-axis\n",
    "# t = np.arange(len(y)) / sr\n",
    "\n",
    "# # Create a plot\n",
    "# plt.figure(figsize=(14, 5))\n",
    "# plt.plot(t, y)\n",
    "# plt.title('Time-Amplitude plot')\n",
    "# plt.xlabel('Time (s)')\n",
    "# plt.ylabel('Amplitude')\n",
    "# plt.show()"
   ]
  },
  {
   "cell_type": "code",
   "execution_count": null,
   "metadata": {},
   "outputs": [],
   "source": [
    "# # STFT calculation\n",
    "# stft_result = stft(y)\n",
    "\n",
    "# # Time-Frequency plot\n",
    "# plt.figure(figsize=(14, 5))\n",
    "# librosa.display.specshow(librosa.amplitude_to_db(stft_result.T), sr=sr, x_axis='time', y_axis='log')\n",
    "# plt.colorbar(format='%+2.0f dB')\n",
    "# plt.title('Time-Frequency plot')\n",
    "# plt.show()"
   ]
  },
  {
   "cell_type": "code",
   "execution_count": null,
   "metadata": {},
   "outputs": [],
   "source": [
    "# # Generate MFCCs\n",
    "# mfccs = get_mfcc(y, sr)\n",
    "\n",
    "# # Plot the MFCCs\n",
    "# plt.figure(figsize=(10, 4))\n",
    "# plt.imshow(mfccs.T, origin='lower', aspect='auto', cmap='viridis')\n",
    "# plt.title('MFCC')\n",
    "# plt.ylabel('MFCC Coefficients')\n",
    "# plt.xlabel('Frame')\n",
    "# plt.colorbar()\n",
    "# plt.tight_layout()\n",
    "# plt.show()"
   ]
  }
 ],
 "metadata": {
  "kernelspec": {
   "display_name": "Python 3.8.5 ('test_env': venv)",
   "language": "python",
   "name": "python3"
  },
  "language_info": {
   "codemirror_mode": {
    "name": "ipython",
    "version": 3
   },
   "file_extension": ".py",
   "mimetype": "text/x-python",
   "name": "python",
   "nbconvert_exporter": "python",
   "pygments_lexer": "ipython3",
   "version": "3.8.5"
  },
  "orig_nbformat": 4,
  "vscode": {
   "interpreter": {
    "hash": "4cf0c84cb920ef818a17945acdbad69d9a4ddd40487682b0650d6bc1faebf3dc"
   }
  }
 },
 "nbformat": 4,
 "nbformat_minor": 2
}
