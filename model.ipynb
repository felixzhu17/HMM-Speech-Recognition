{
 "cells": [
  {
   "cell_type": "code",
   "execution_count": 1,
   "metadata": {},
   "outputs": [],
   "source": [
    "from config import *\n",
    "from data import *\n",
    "from hmm import *\n",
    "from evaluation import *\n",
    "from encoder import *"
   ]
  },
  {
   "cell_type": "code",
   "execution_count": 2,
   "metadata": {},
   "outputs": [],
   "source": [
    "data_config = DataConfig(\n",
    "    folder_path=\"audio\",\n",
    "    sr=8000,\n",
    "    window_ms=10,\n",
    "    overlap_pct=0.25,\n",
    "    mel_banks=20,\n",
    "    n_mfcc=12,\n",
    "    test_size=0.25,\n",
    ")\n",
    "hmm_config = HMMConfig(n_states=2)\n",
    "nn_config = NNConfig(\n",
    "    input_dim=data_config.n_mfcc,\n",
    "    output_dim=None,\n",
    "    encoding_dim=64,\n",
    "    n_heads=4,\n",
    "    dropout=0.2,\n",
    "    num_epochs=50,\n",
    "    learning_rate=0.001,\n",
    "    batch_size=32,\n",
    ")"
   ]
  },
  {
   "cell_type": "markdown",
   "metadata": {},
   "source": [
    "# Simulated Data"
   ]
  },
  {
   "cell_type": "code",
   "execution_count": 3,
   "metadata": {},
   "outputs": [],
   "source": [
    "hmm_samples = generate_HMM_samples()"
   ]
  },
  {
   "cell_type": "code",
   "execution_count": 4,
   "metadata": {},
   "outputs": [
    {
     "name": "stdout",
     "output_type": "stream",
     "text": [
      "Initializing mu...\n",
      "Initializing covs...\n"
     ]
    }
   ],
   "source": [
    "self = BatchStableGMMHMM(n_states=2, n_dims=3)\n",
    "for _ in range(25):\n",
    "    self.em_step(hmm_samples)"
   ]
  },
  {
   "cell_type": "code",
   "execution_count": 5,
   "metadata": {},
   "outputs": [
    {
     "name": "stdout",
     "output_type": "stream",
     "text": [
      "Initializing nn...\n"
     ]
    }
   ],
   "source": [
    "self = DNNHMM(n_states=2, n_dims=3)\n",
    "for _ in range(25):\n",
    "    self.em_step(hmm_samples)"
   ]
  },
  {
   "cell_type": "markdown",
   "metadata": {},
   "source": [
    "# HMM Audio Data"
   ]
  },
  {
   "cell_type": "code",
   "execution_count": 6,
   "metadata": {},
   "outputs": [
    {
     "name": "stdout",
     "output_type": "stream",
     "text": [
      "Words spoken: ['apple', 'banana', 'kiwi', 'lime', 'orange', 'peach', 'pineapple']\n"
     ]
    }
   ],
   "source": [
    "train_hmm, test_hmm = prepare_hmm_dataset(\n",
    "    folder_path=data_config.folder_path,\n",
    "    sr=data_config.sr,\n",
    "    window_ms=data_config.window_ms,\n",
    "    overlap_pct=data_config.overlap_pct,\n",
    "    mel_banks=data_config.mel_banks,\n",
    "    n_mfcc=data_config.n_mfcc,\n",
    "    test_size=data_config.test_size,\n",
    ")\n",
    "spoken_words = list(train_hmm.keys())"
   ]
  },
  {
   "cell_type": "code",
   "execution_count": 7,
   "metadata": {},
   "outputs": [
    {
     "name": "stdout",
     "output_type": "stream",
     "text": [
      "Initializing mu...\n",
      "Initializing covs...\n",
      "Initializing mu...\n",
      "Initializing covs...\n",
      "Initializing mu...\n",
      "Initializing covs...\n",
      "Initializing mu...\n",
      "Initializing covs...\n",
      "Initializing mu...\n",
      "Initializing covs...\n",
      "Initializing mu...\n",
      "Initializing covs...\n",
      "Initializing mu...\n",
      "Initializing covs...\n"
     ]
    }
   ],
   "source": [
    "gmm_hmm_models = {}\n",
    "for word in spoken_words:\n",
    "    gmm_hmm_models[word] = BatchStableGMMHMM(\n",
    "        n_states=hmm_config.n_states, n_dims=data_config.n_mfcc\n",
    "    )\n",
    "    for _ in range(25):\n",
    "        gmm_hmm_models[word].em_step(train_hmm[word][0])"
   ]
  },
  {
   "cell_type": "code",
   "execution_count": 8,
   "metadata": {},
   "outputs": [
    {
     "data": {
      "text/plain": [
       "(1.0, 1.0)"
      ]
     },
     "execution_count": 8,
     "metadata": {},
     "output_type": "execute_result"
    }
   ],
   "source": [
    "calculate_hmm_accuracy(test_hmm, gmm_hmm_models)"
   ]
  },
  {
   "cell_type": "code",
   "execution_count": 9,
   "metadata": {},
   "outputs": [
    {
     "name": "stdout",
     "output_type": "stream",
     "text": [
      "Initializing nn...\n",
      "Initializing nn...\n",
      "Initializing nn...\n",
      "Initializing nn...\n",
      "Initializing nn...\n",
      "Initializing nn...\n",
      "Initializing nn...\n"
     ]
    }
   ],
   "source": [
    "dnn_hmm_models = {}\n",
    "for word in train_hmm.keys():\n",
    "    dnn_hmm_models[word] = DNNHMM(\n",
    "        n_states=hmm_config.n_states, n_dims=data_config.n_mfcc\n",
    "    )\n",
    "    for _ in range(25):\n",
    "        dnn_hmm_models[word].em_step(train_hmm[word][0], train_hmm[word][1])"
   ]
  },
  {
   "cell_type": "code",
   "execution_count": 10,
   "metadata": {},
   "outputs": [
    {
     "data": {
      "text/plain": [
       "(0.14285714285714285, 0.4642857142857143)"
      ]
     },
     "execution_count": 10,
     "metadata": {},
     "output_type": "execute_result"
    }
   ],
   "source": [
    "calculate_hmm_accuracy(test_hmm, dnn_hmm_models)"
   ]
  },
  {
   "cell_type": "markdown",
   "metadata": {},
   "source": [
    "# NN Audio Data"
   ]
  },
  {
   "cell_type": "code",
   "execution_count": 11,
   "metadata": {},
   "outputs": [
    {
     "name": "stdout",
     "output_type": "stream",
     "text": [
      "Words spoken: ['apple', 'banana', 'kiwi', 'lime', 'orange', 'peach', 'pineapple']\n"
     ]
    }
   ],
   "source": [
    "train_dataset, test_dataset, label_map, reverse_label_map = prepare_nn_datasets(\n",
    "    folder_path=data_config.folder_path,\n",
    "    sr=data_config.sr,\n",
    "    window_ms=data_config.window_ms,\n",
    "    overlap_pct=data_config.overlap_pct,\n",
    "    mel_banks=data_config.mel_banks,\n",
    "    n_mfcc=data_config.n_mfcc,\n",
    "    test_size=data_config.test_size,\n",
    ")"
   ]
  },
  {
   "cell_type": "code",
   "execution_count": 12,
   "metadata": {},
   "outputs": [],
   "source": [
    "nn_model = Encoder(\n",
    "    input_dim=nn_config.input_dim,\n",
    "    output_dim=len(label_map),\n",
    "    encoding_dim=nn_config.encoding_dim,\n",
    "    n_heads=nn_config.n_heads,\n",
    "    dropout=nn_config.dropout,\n",
    ")"
   ]
  },
  {
   "cell_type": "code",
   "execution_count": 13,
   "metadata": {},
   "outputs": [
    {
     "name": "stdout",
     "output_type": "stream",
     "text": [
      "Epoch: 1, Loss: 2.0135\n",
      "Epoch: 2, Loss: 1.6994\n",
      "Epoch: 3, Loss: 1.6494\n",
      "Epoch: 4, Loss: 1.6056\n",
      "Epoch: 5, Loss: 1.5653\n",
      "Epoch: 6, Loss: 1.5410\n",
      "Epoch: 7, Loss: 1.5067\n",
      "Epoch: 8, Loss: 1.4838\n",
      "Epoch: 9, Loss: 1.4661\n",
      "Epoch: 10, Loss: 1.4416\n",
      "Epoch: 11, Loss: 1.4260\n",
      "Epoch: 12, Loss: 1.4168\n",
      "Epoch: 13, Loss: 1.4104\n",
      "Epoch: 14, Loss: 1.3976\n",
      "Epoch: 15, Loss: 1.3860\n",
      "Epoch: 16, Loss: 1.3729\n",
      "Epoch: 17, Loss: 1.3653\n",
      "Epoch: 18, Loss: 1.3533\n",
      "Epoch: 19, Loss: 1.3422\n",
      "Epoch: 20, Loss: 1.3306\n",
      "Epoch: 21, Loss: 1.3200\n",
      "Epoch: 22, Loss: 1.3086\n",
      "Epoch: 23, Loss: 1.3007\n",
      "Epoch: 24, Loss: 1.2868\n",
      "Epoch: 25, Loss: 1.2760\n",
      "Epoch: 26, Loss: 1.2681\n",
      "Epoch: 27, Loss: 1.2558\n",
      "Epoch: 28, Loss: 1.2475\n",
      "Epoch: 29, Loss: 1.2506\n",
      "Epoch: 30, Loss: 1.2301\n",
      "Epoch: 31, Loss: 1.2161\n",
      "Epoch: 32, Loss: 1.2070\n",
      "Epoch: 33, Loss: 1.1973\n",
      "Epoch: 34, Loss: 1.1889\n",
      "Epoch: 35, Loss: 1.1749\n",
      "Epoch: 36, Loss: 1.1675\n",
      "Epoch: 37, Loss: 1.1549\n",
      "Epoch: 38, Loss: 1.1452\n",
      "Epoch: 39, Loss: 1.1347\n",
      "Epoch: 40, Loss: 1.1253\n",
      "Epoch: 41, Loss: 1.1101\n",
      "Epoch: 42, Loss: 1.0838\n",
      "Epoch: 43, Loss: 1.0775\n",
      "Epoch: 44, Loss: 1.0552\n",
      "Epoch: 45, Loss: 1.0587\n",
      "Epoch: 46, Loss: 1.0379\n",
      "Epoch: 47, Loss: 1.0152\n",
      "Epoch: 48, Loss: 1.0085\n",
      "Epoch: 49, Loss: 0.9952\n",
      "Epoch: 50, Loss: 0.9821\n"
     ]
    }
   ],
   "source": [
    "train_model(\n",
    "    nn_model,\n",
    "    train_dataset,\n",
    "    num_epochs=nn_config.num_epochs,\n",
    "    learning_rate=nn_config.learning_rate,\n",
    "    batch_size=nn_config.batch_size,\n",
    ")"
   ]
  },
  {
   "cell_type": "code",
   "execution_count": 14,
   "metadata": {},
   "outputs": [
    {
     "data": {
      "text/plain": [
       "(0.9629629850387573, 1.0)"
      ]
     },
     "execution_count": 14,
     "metadata": {},
     "output_type": "execute_result"
    }
   ],
   "source": [
    "compute_nn_accuracies(nn_model, test_dataset)"
   ]
  },
  {
   "cell_type": "markdown",
   "metadata": {},
   "source": [
    "# Plot"
   ]
  },
  {
   "cell_type": "code",
   "execution_count": 15,
   "metadata": {},
   "outputs": [],
   "source": [
    "# # Create a time array for the x-axis\n",
    "# t = np.arange(len(y)) / sr\n",
    "\n",
    "# # Create a plot\n",
    "# plt.figure(figsize=(14, 5))\n",
    "# plt.plot(t, y)\n",
    "# plt.title('Time-Amplitude plot')\n",
    "# plt.xlabel('Time (s)')\n",
    "# plt.ylabel('Amplitude')\n",
    "# plt.show()"
   ]
  },
  {
   "cell_type": "code",
   "execution_count": 16,
   "metadata": {},
   "outputs": [],
   "source": [
    "# # STFT calculation\n",
    "# stft_result = stft(y)\n",
    "\n",
    "# # Time-Frequency plot\n",
    "# plt.figure(figsize=(14, 5))\n",
    "# librosa.display.specshow(librosa.amplitude_to_db(stft_result.T), sr=sr, x_axis='time', y_axis='log')\n",
    "# plt.colorbar(format='%+2.0f dB')\n",
    "# plt.title('Time-Frequency plot')\n",
    "# plt.show()"
   ]
  },
  {
   "cell_type": "code",
   "execution_count": 17,
   "metadata": {},
   "outputs": [],
   "source": [
    "# # Generate MFCCs\n",
    "# mfccs = get_mfcc(y, sr)\n",
    "\n",
    "# # Plot the MFCCs\n",
    "# plt.figure(figsize=(10, 4))\n",
    "# plt.imshow(mfccs.T, origin='lower', aspect='auto', cmap='viridis')\n",
    "# plt.title('MFCC')\n",
    "# plt.ylabel('MFCC Coefficients')\n",
    "# plt.xlabel('Frame')\n",
    "# plt.colorbar()\n",
    "# plt.tight_layout()\n",
    "# plt.show()"
   ]
  }
 ],
 "metadata": {
  "kernelspec": {
   "display_name": "Python 3.8.5 ('test_env': venv)",
   "language": "python",
   "name": "python3"
  },
  "language_info": {
   "codemirror_mode": {
    "name": "ipython",
    "version": 3
   },
   "file_extension": ".py",
   "mimetype": "text/x-python",
   "name": "python",
   "nbconvert_exporter": "python",
   "pygments_lexer": "ipython3",
   "version": "3.8.5"
  },
  "orig_nbformat": 4,
  "vscode": {
   "interpreter": {
    "hash": "4cf0c84cb920ef818a17945acdbad69d9a4ddd40487682b0650d6bc1faebf3dc"
   }
  }
 },
 "nbformat": 4,
 "nbformat_minor": 2
}
